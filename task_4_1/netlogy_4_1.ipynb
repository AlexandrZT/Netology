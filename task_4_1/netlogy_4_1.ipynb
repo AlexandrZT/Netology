{
 "cells": [
  {
   "cell_type": "code",
   "execution_count": 1,
   "metadata": {
    "collapsed": true
   },
   "outputs": [],
   "source": [
    "import pandas as pd\n",
    "import numpy as np\n",
    "import matplotlib.pyplot as plt\n",
    "from datetime import date\n",
    "\n",
    "%matplotlib inline"
   ]
  },
  {
   "cell_type": "code",
   "execution_count": 2,
   "metadata": {
    "collapsed": true
   },
   "outputs": [],
   "source": [
    "WORK_DIR = ''\n",
    "tdata = pd.read_csv(''.join((WORK_DIR, 'yob1880.txt')), names=['Name','Sex', 'Count'])"
   ]
  },
  {
   "cell_type": "code",
   "execution_count": 57,
   "metadata": {
    "collapsed": true
   },
   "outputs": [],
   "source": [
    "def count3(load_years):\n",
    "    loaded_data = pd.concat(load_years)\n",
    "    print(loaded_data)\n"
   ]
  },
  {
   "cell_type": "code",
   "execution_count": 11,
   "metadata": {},
   "outputs": [
    {
     "name": "stdout",
     "output_type": "stream",
     "text": [
      "    a  b   c\n",
      "0   6  5  12\n",
      "1   8  5  10\n",
      "2  10  5   8\n",
      "3  12  5   6\n"
     ]
    }
   ],
   "source": [
    "a1 = {\n",
    "    'a': [1, 2, 3, 4],\n",
    "    'b': [2, 2, 2, 2],\n",
    "    'c': [4, 3, 2, 1]\n",
    "}\n",
    "a2 = {\n",
    "    'a': [5, 6, 7, 8],\n",
    "    'b': [3, 3, 3, 3],\n",
    "    'c': [8, 7, 6, 5]\n",
    "}\n",
    "a1s = pd.DataFrame(a1)\n",
    "a2s = pd.DataFrame(a2)\n",
    "#a1s.combineAdd(a2s)\n",
    "rrr=a1s.add(a2s)\n",
    "print(rrr)\n"
   ]
  },
  {
   "cell_type": "code",
   "execution_count": 38,
   "metadata": {
    "scrolled": true
   },
   "outputs": [
    {
     "name": "stdout",
     "output_type": "stream",
     "text": [
      "['Mary', 'Anna', 'Emma']\n"
     ]
    }
   ],
   "source": [
    "def agg_count(row):\n",
    "    if pd.isnull(row[2]):\n",
    "        row[2] = 0\n",
    "    if pd.isnull(row[3]):\n",
    "        row[3] = 0\n",
    "    row.Sum = row[2] + row[3]\n",
    "    return row\n",
    "\n",
    "def merge_with_data(years):\n",
    "    if len(years) == 1:\n",
    "        print(1)\n",
    "    first_run = True\n",
    "    for year in years:\n",
    "        if first_run:\n",
    "            first_run = False\n",
    "            big_table = pd.read_csv(''.join([WORK_DIR, ''.join([year, '.txt'])]), names=['Name','Sex', 'Count'])\n",
    "        else:\n",
    "            loaded_data = pd.read_csv(''.join([WORK_DIR, ''.join([year, '.txt'])]), names=['Name','Sex', 'Count'])\n",
    "            big_table = pd.merge(big_table, loaded_data, on=['Name','Sex'], how = 'outer' )\n",
    "            big_table['Sum'] = pd.Series(0)\n",
    "            tmp_big_table = big_table.apply(agg_count, axis=1)\n",
    "            tmp_big_table = tmp_big_table.drop(tmp_big_table.columns[3], axis=1)\n",
    "            tmp_big_table = tmp_big_table.drop(tmp_big_table.columns[2], axis=1)\n",
    "            tmp_big_table.rename(columns={'Sum': 'count'}, inplace=True)\n",
    "            big_table = tmp_big_table\n",
    "    retVals = big_table.head(3)\n",
    "     \n",
    "    print(retVals['Name'].tolist())\n",
    "    \n",
    "merge_with_data(['t1880', 't1881', 't1882'])\n"
   ]
  },
  {
   "cell_type": "code",
   "execution_count": 31,
   "metadata": {
    "scrolled": true
   },
   "outputs": [
    {
     "name": "stdout",
     "output_type": "stream",
     "text": [
      "{'M': [0, 1, 1], 'F': [10, 9, 9]}\n"
     ]
    }
   ],
   "source": [
    "def dynamic_change(years):\n",
    "    change_list = { \n",
    "                    'M': [],\n",
    "                    'F': []\n",
    "                }\n",
    "    for year in years:\n",
    "        csv_data = pd.read_csv(''.join((WORK_DIR, year)), names=['Name','Sex', 'Count'])\n",
    "        year_stat = csv_data.groupby('Sex').Count.count()\n",
    "        if 'M' in year_stat.axes[0]:\n",
    "            change_list['M'].append(year_stat['M'])\n",
    "        else:\n",
    "            change_list['M'].append(0)\n",
    "        if 'F' in year_stat.axes[0]:\n",
    "            change_list['F'].append(year_stat['F']) \n",
    "        else:\n",
    "            change_list['F'].append(0)\n",
    "    return change_list\n",
    "\n",
    "testfr = ['t1880.txt', 't1881.txt', 't1882.txt']\n",
    "year_slice = dynamic_change(testfr)\n",
    "print(year_slice)"
   ]
  }
 ],
 "metadata": {
  "kernelspec": {
   "display_name": "Python 3",
   "language": "python",
   "name": "python3"
  },
  "language_info": {
   "codemirror_mode": {
    "name": "ipython",
    "version": 3
   },
   "file_extension": ".py",
   "mimetype": "text/x-python",
   "name": "python",
   "nbconvert_exporter": "python",
   "pygments_lexer": "ipython3",
   "version": "3.6.1"
  }
 },
 "nbformat": 4,
 "nbformat_minor": 2
}
