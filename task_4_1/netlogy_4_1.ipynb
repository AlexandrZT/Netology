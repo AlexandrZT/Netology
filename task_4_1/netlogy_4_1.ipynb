{
 "cells": [
  {
   "cell_type": "code",
   "execution_count": 1,
   "metadata": {
    "collapsed": true
   },
   "outputs": [],
   "source": [
    "import pandas as pd\n",
    "import numpy as np\n",
    "import matplotlib.pyplot as plt\n",
    "from datetime import date\n",
    "\n",
    "%matplotlib inline"
   ]
  },
  {
   "cell_type": "code",
   "execution_count": 4,
   "metadata": {
    "collapsed": true
   },
   "outputs": [],
   "source": [
    "WORK_DIR = ''\n",
    "tdata = pd.read_csv(''.join((WORK_DIR, 'yob1880.txt')), names=['Name','Sex', 'Count'])"
   ]
  },
  {
   "cell_type": "code",
   "execution_count": 57,
   "metadata": {
    "collapsed": true
   },
   "outputs": [],
   "source": [
    "def count3(load_years):\n",
    "    loaded_data = pd.concat(load_years)\n",
    "    print(loaded_data)\n"
   ]
  },
  {
   "cell_type": "code",
   "execution_count": 10,
   "metadata": {},
   "outputs": [
    {
     "name": "stdout",
     "output_type": "stream",
     "text": [
      "   a  b  c\n",
      "0  1  2  4\n",
      "1  2  2  3\n",
      "2  3  2  2\n",
      "3  4  2  1\n",
      "4  5  3  8\n",
      "5  6  3  7\n",
      "6  7  3  6\n",
      "7  8  3  5\n"
     ]
    }
   ],
   "source": [
    "a1 = {\n",
    "    'a': [1, 2, 3, 4],\n",
    "    'b': [2, 2, 2, 2],\n",
    "    'c': [4, 3, 2, 1]\n",
    "}\n",
    "a2 = {\n",
    "    'a': [5, 6, 7, 8],\n",
    "    'b': [3, 3, 3, 3],\n",
    "    'c': [8, 7, 6, 5]\n",
    "}\n",
    "a1s = pd.DataFrame(a1)\n",
    "a2s = pd.DataFrame(a2)\n",
    "resultsA = pd.concat([a1s, a2s], keys=['a1s', 'a2s',], ignore_index=True)\n",
    "print(resultsA)\n"
   ]
  },
  {
   "cell_type": "code",
   "execution_count": 40,
   "metadata": {
    "scrolled": true
   },
   "outputs": [
    {
     "name": "stdout",
     "output_type": "stream",
     "text": [
      "      2     5\n",
      "0  7065  6919\n",
      "1  2604  2698\n",
      "2  2003  2034\n",
      "3  1939  1852\n",
      "4  1746  1658\n",
      "5  1578  1653\n",
      "6  1472  1439\n",
      "7  1414  1326\n",
      "8  1320  1324\n",
      "9  1288  1308\n",
      "         Name Sex  Count_x  Count_y    count\n",
      "0        Mary   F   7065.0   6919.0  13984.0\n",
      "1        Anna   F   2604.0   2698.0   5302.0\n",
      "2        Emma   F   2003.0   2034.0   4037.0\n",
      "3   Elizabeth   F   1939.0   1852.0   3791.0\n",
      "4      Minnie   F   1746.0   1653.0   3399.0\n",
      "5    Margaret   F   1578.0      0.0   1578.0\n",
      "6         Ida   F   1472.0   1439.0   2911.0\n",
      "7       Alice   F   1414.0   1308.0   2722.0\n",
      "8      Bertha   F   1320.0   1324.0   2644.0\n",
      "9       Sarah   F   1288.0      0.0   1288.0\n",
      "10   Alexandr   M      0.0   1658.0   1658.0\n",
      "11      Annie   F      0.0   1326.0   1326.0\n"
     ]
    }
   ],
   "source": [
    "def agg_count(row):\n",
    "    if pd.isnull(row[2]):\n",
    "        row[2] = 0\n",
    "    if pd.isnull(row[3]):\n",
    "        row[3] = 0\n",
    "    row.Sum = row[2] + row[3]\n",
    "    return row\n",
    "\n",
    "def merge_with_data(years):\n",
    "    if len(years) == 1:\n",
    "        print(1)\n",
    "    pass\n",
    "tdata1 = pd.read_csv(''.join((WORK_DIR, 't1880.txt')), names=['Name','Sex', 'Count'])\n",
    "tdata2 = pd.read_csv(''.join((WORK_DIR, 't1881.txt')), names=['Name','Sex', 'Count'])\n",
    "tdata3 = pd.read_csv(''.join((WORK_DIR, 't1882.txt')), names=['Name','Sex', 'Count'])\n",
    "v1 = pd.concat([tdata1, tdata2], ignore_index=True, axis=1).groupby(level=0, group_keys=['Name']).sum()\n",
    "#pd.concat([df1,df2]).groupby(level=0).sum()\n",
    "\n",
    "v2 = pd.merge(tdata1, tdata2, on=['Name','Sex'], how = 'outer' )\n",
    "v2['Sum'] = pd.Series(0)\n",
    "v3 = v2.apply(agg_count, axis=1)\n",
    "#del v3['Count_x']\n",
    "#del v3['Count_y']\n",
    "#v3.drop(v3.index[[2,3]], axis=1)\n",
    "v3.rename(columns={'Sum': 'count'}, inplace=True)\n",
    "print(v1)\n",
    "print(v3)"
   ]
  },
  {
   "cell_type": "code",
   "execution_count": 31,
   "metadata": {
    "scrolled": true
   },
   "outputs": [
    {
     "name": "stdout",
     "output_type": "stream",
     "text": [
      "{'M': [0, 1, 1], 'F': [10, 9, 9]}\n"
     ]
    }
   ],
   "source": [
    "def dynamic_change(years):\n",
    "    change_list = { \n",
    "                    'M': [],\n",
    "                    'F': []\n",
    "                }\n",
    "    for year in years:\n",
    "        csv_data = pd.read_csv(''.join((WORK_DIR, year)), names=['Name','Sex', 'Count'])\n",
    "        year_stat = csv_data.groupby('Sex').Count.count()\n",
    "        if 'M' in year_stat.axes[0]:\n",
    "            change_list['M'].append(year_stat['M'])\n",
    "        else:\n",
    "            change_list['M'].append(0)\n",
    "        if 'F' in year_stat.axes[0]:\n",
    "            change_list['F'].append(year_stat['F']) \n",
    "        else:\n",
    "            change_list['F'].append(0)\n",
    "    return change_list\n",
    "\n",
    "testfr = ['t1880.txt', 't1881.txt', 't1882.txt']\n",
    "year_slice = dynamic_change(testfr)\n",
    "print(year_slice)"
   ]
  }
 ],
 "metadata": {
  "kernelspec": {
   "display_name": "Python 3",
   "language": "python",
   "name": "python3"
  },
  "language_info": {
   "codemirror_mode": {
    "name": "ipython",
    "version": 3
   },
   "file_extension": ".py",
   "mimetype": "text/x-python",
   "name": "python",
   "nbconvert_exporter": "python",
   "pygments_lexer": "ipython3",
   "version": "3.6.1"
  }
 },
 "nbformat": 4,
 "nbformat_minor": 2
}
